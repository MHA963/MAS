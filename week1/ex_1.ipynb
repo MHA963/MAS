{
 "cells": [
  {
   "cell_type": "code",
   "execution_count": 1,
   "id": "81b80d60",
   "metadata": {},
   "outputs": [
    {
     "name": "stdout",
     "output_type": "stream",
     "text": [
      "\u001b[32m2025-09-15 14:15\u001b[0m | \u001b[1mINFO    \u001b[0m | \u001b[1mSimulation environment 'robot_world' has been initialized and started.\u001b[0m\n",
      "\u001b[32m2025-09-15 14:15\u001b[0m | \u001b[1mINFO    \u001b[0m | \u001b[1mFigure will be closed within 3.00 seconds.\u001b[0m\n",
      "\u001b[32m2025-09-15 14:15\u001b[0m | \u001b[1mINFO    \u001b[0m | \u001b[1mThe simulated environment has ended. Total simulation time: 11.5 seconds.\u001b[0m\n"
     ]
    }
   ],
   "source": [
    "\n",
    "import irsim\n",
    "\n",
    "env = irsim.make('robot_world.yaml') # initialize the environment with the configuration file\n",
    "\n",
    "for i in range(300): # run the simulation for 300 steps\n",
    "\n",
    "    env.step()  # update the environment\n",
    "    env.render() # render the environment\n",
    "\n",
    "    if env.done(): break # check if the simulation is done\n",
    "        \n",
    "env.end() # close the environment"
   ]
  }
 ],
 "metadata": {
  "kernelspec": {
   "display_name": "MAS",
   "language": "python",
   "name": "python3"
  },
  "language_info": {
   "codemirror_mode": {
    "name": "ipython",
    "version": 3
   },
   "file_extension": ".py",
   "mimetype": "text/x-python",
   "name": "python",
   "nbconvert_exporter": "python",
   "pygments_lexer": "ipython3",
   "version": "3.12.11"
  }
 },
 "nbformat": 4,
 "nbformat_minor": 5
}
