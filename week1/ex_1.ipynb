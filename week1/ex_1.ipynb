{
 "cells": [
  {
   "cell_type": "code",
   "execution_count": null,
   "id": "81b80d60",
   "metadata": {},
   "outputs": [
    {
     "name": "stdout",
     "output_type": "stream",
     "text": [
      "\u001b[32m2025-09-22 22:04\u001b[0m | \u001b[1mINFO    \u001b[0m | \u001b[1mSimulation environment 'robot_world' has been initialized and started.\u001b[0m\n"
     ]
    },
    {
     "ename": "KeyboardInterrupt",
     "evalue": "",
     "output_type": "error",
     "traceback": [
      "\u001b[31m---------------------------------------------------------------------------\u001b[39m",
      "\u001b[31mKeyboardInterrupt\u001b[39m                         Traceback (most recent call last)",
      "\u001b[36mCell\u001b[39m\u001b[36m \u001b[39m\u001b[32mIn[6]\u001b[39m\u001b[32m, line 8\u001b[39m\n\u001b[32m      5\u001b[39m \u001b[38;5;28;01mfor\u001b[39;00m i \u001b[38;5;129;01min\u001b[39;00m \u001b[38;5;28mrange\u001b[39m(\u001b[32m300\u001b[39m): \u001b[38;5;66;03m# run the simulation for 300 steps\u001b[39;00m\n\u001b[32m      7\u001b[39m     env.step()  \u001b[38;5;66;03m# update the environment\u001b[39;00m\n\u001b[32m----> \u001b[39m\u001b[32m8\u001b[39m     \u001b[43menv\u001b[49m\u001b[43m.\u001b[49m\u001b[43mrender\u001b[49m\u001b[43m(\u001b[49m\u001b[43m)\u001b[49m \u001b[38;5;66;03m# render the environment\u001b[39;00m\n\u001b[32m     10\u001b[39m     \u001b[38;5;28;01mif\u001b[39;00m env.done(): \u001b[38;5;28;01mbreak\u001b[39;00m \u001b[38;5;66;03m# check if the simulation is done\u001b[39;00m\n\u001b[32m     12\u001b[39m env.end() \u001b[38;5;66;03m# close the environment\u001b[39;00m\n",
      "\u001b[36mFile \u001b[39m\u001b[32mc:\\Users\\hadev\\anaconda3\\envs\\MAS\\Lib\\site-packages\\irsim\\env\\env_base.py:327\u001b[39m, in \u001b[36mEnvBase.render\u001b[39m\u001b[34m(self, interval, figure_kwargs, mode, **kwargs)\u001b[39m\n\u001b[32m    325\u001b[39m \u001b[38;5;28;01mif\u001b[39;00m \u001b[38;5;129;01mnot\u001b[39;00m \u001b[38;5;28mself\u001b[39m.disable_all_plot \u001b[38;5;129;01mand\u001b[39;00m \u001b[38;5;28mself\u001b[39m._world.sampling:\n\u001b[32m    326\u001b[39m     \u001b[38;5;28;01mif\u001b[39;00m \u001b[38;5;28mself\u001b[39m.display:\n\u001b[32m--> \u001b[39m\u001b[32m327\u001b[39m         \u001b[43mplt\u001b[49m\u001b[43m.\u001b[49m\u001b[43mpause\u001b[49m\u001b[43m(\u001b[49m\u001b[43minterval\u001b[49m\u001b[43m)\u001b[49m\n\u001b[32m    329\u001b[39m     \u001b[38;5;28;01mif\u001b[39;00m \u001b[38;5;28mself\u001b[39m.save_ani:\n\u001b[32m    330\u001b[39m         \u001b[38;5;28mself\u001b[39m.save_figure(save_gif=\u001b[38;5;28;01mTrue\u001b[39;00m, **figure_kwargs)\n",
      "\u001b[36mFile \u001b[39m\u001b[32mc:\\Users\\hadev\\anaconda3\\envs\\MAS\\Lib\\site-packages\\matplotlib\\pyplot.py:758\u001b[39m, in \u001b[36mpause\u001b[39m\u001b[34m(interval)\u001b[39m\n\u001b[32m    756\u001b[39m         canvas.draw_idle()\n\u001b[32m    757\u001b[39m     show(block=\u001b[38;5;28;01mFalse\u001b[39;00m)\n\u001b[32m--> \u001b[39m\u001b[32m758\u001b[39m     \u001b[43mcanvas\u001b[49m\u001b[43m.\u001b[49m\u001b[43mstart_event_loop\u001b[49m\u001b[43m(\u001b[49m\u001b[43minterval\u001b[49m\u001b[43m)\u001b[49m\n\u001b[32m    759\u001b[39m \u001b[38;5;28;01melse\u001b[39;00m:\n\u001b[32m    760\u001b[39m     time.sleep(interval)\n",
      "\u001b[36mFile \u001b[39m\u001b[32mc:\\Users\\hadev\\anaconda3\\envs\\MAS\\Lib\\site-packages\\matplotlib\\backends\\_backend_tk.py:475\u001b[39m, in \u001b[36mFigureCanvasTk.start_event_loop\u001b[39m\u001b[34m(self, timeout)\u001b[39m\n\u001b[32m    472\u001b[39m     \u001b[38;5;28;01melse\u001b[39;00m:\n\u001b[32m    473\u001b[39m         \u001b[38;5;28mself\u001b[39m._event_loop_id = \u001b[38;5;28mself\u001b[39m._tkcanvas.after_idle(\n\u001b[32m    474\u001b[39m             \u001b[38;5;28mself\u001b[39m.stop_event_loop)\n\u001b[32m--> \u001b[39m\u001b[32m475\u001b[39m \u001b[38;5;28;43mself\u001b[39;49m\u001b[43m.\u001b[49m\u001b[43m_tkcanvas\u001b[49m\u001b[43m.\u001b[49m\u001b[43mmainloop\u001b[49m\u001b[43m(\u001b[49m\u001b[43m)\u001b[49m\n",
      "\u001b[36mFile \u001b[39m\u001b[32mc:\\Users\\hadev\\anaconda3\\envs\\MAS\\Lib\\tkinter\\__init__.py:1505\u001b[39m, in \u001b[36mMisc.mainloop\u001b[39m\u001b[34m(self, n)\u001b[39m\n\u001b[32m   1503\u001b[39m \u001b[38;5;28;01mdef\u001b[39;00m\u001b[38;5;250m \u001b[39m\u001b[34mmainloop\u001b[39m(\u001b[38;5;28mself\u001b[39m, n=\u001b[32m0\u001b[39m):\n\u001b[32m   1504\u001b[39m \u001b[38;5;250m    \u001b[39m\u001b[33;03m\"\"\"Call the mainloop of Tk.\"\"\"\u001b[39;00m\n\u001b[32m-> \u001b[39m\u001b[32m1505\u001b[39m     \u001b[38;5;28;43mself\u001b[39;49m\u001b[43m.\u001b[49m\u001b[43mtk\u001b[49m\u001b[43m.\u001b[49m\u001b[43mmainloop\u001b[49m\u001b[43m(\u001b[49m\u001b[43mn\u001b[49m\u001b[43m)\u001b[49m\n",
      "\u001b[31mKeyboardInterrupt\u001b[39m: "
     ]
    },
    {
     "ename": "",
     "evalue": "",
     "output_type": "error",
     "traceback": [
      "\u001b[1;31mThe Kernel crashed while executing code in the current cell or a previous cell. \n",
      "\u001b[1;31mPlease review the code in the cell(s) to identify a possible cause of the failure. \n",
      "\u001b[1;31mClick <a href='https://aka.ms/vscodeJupyterKernelCrash'>here</a> for more info. \n",
      "\u001b[1;31mView Jupyter <a href='command:jupyter.viewOutput'>log</a> for further details."
     ]
    }
   ],
   "source": [
    "\n",
    "import irsim\n",
    "\n",
    "env = irsim.make('robot_world.yaml') # initialize the environment with the configuration file\n",
    "\n",
    "for i in range(300): # run the simulation for 300 steps\n",
    "\n",
    "    env.step()  # update the environment\n",
    "    env.render() # render the environment\n",
    "\n",
    "    if env.done(): break # check if the simulation is done\n",
    "        \n",
    "env.end() # close the environment"
   ]
  }
 ],
 "metadata": {
  "kernelspec": {
   "display_name": "MAS",
   "language": "python",
   "name": "python3"
  },
  "language_info": {
   "codemirror_mode": {
    "name": "ipython",
    "version": 3
   },
   "file_extension": ".py",
   "mimetype": "text/x-python",
   "name": "python",
   "nbconvert_exporter": "python",
   "pygments_lexer": "ipython3",
   "version": "3.12.11"
  }
 },
 "nbformat": 4,
 "nbformat_minor": 5
}
